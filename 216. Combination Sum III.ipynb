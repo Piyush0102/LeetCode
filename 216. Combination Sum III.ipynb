{
 "cells": [
  {
   "cell_type": "code",
   "execution_count": null,
   "id": "16fe8be1-4f14-4775-9d1a-16479c879cd3",
   "metadata": {},
   "outputs": [],
   "source": [
    "class Solution:\n",
    "    def combinationSum3(self, k: int, n: int) -> List[List[int]]:\n",
    "        result = []\n",
    "        def try_combination(combination, n, start):\n",
    "            if k == len(combination): \n",
    "                if n == 0: result.append(combination.copy())\n",
    "                return\n",
    "            \n",
    "            for i in range(start, 10):\n",
    "                combination.append(i)\n",
    "                try_combination(combination, n-i, i+1)\n",
    "                combination.pop()\n",
    "        try_combination([], n, 1)\n",
    "        return result        "
   ]
  }
 ],
 "metadata": {
  "kernelspec": {
   "display_name": "Python 3 (ipykernel)",
   "language": "python",
   "name": "python3"
  },
  "language_info": {
   "codemirror_mode": {
    "name": "ipython",
    "version": 3
   },
   "file_extension": ".py",
   "mimetype": "text/x-python",
   "name": "python",
   "nbconvert_exporter": "python",
   "pygments_lexer": "ipython3",
   "version": "3.11.1"
  }
 },
 "nbformat": 4,
 "nbformat_minor": 5
}
