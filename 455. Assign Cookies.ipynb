{
 "cells": [
  {
   "cell_type": "code",
   "execution_count": null,
   "id": "0ae4d257-e559-4bde-ad98-c1861f2064a4",
   "metadata": {},
   "outputs": [],
   "source": [
    "class Solution:\n",
    "    def findContentChildren(self, g: List[int], s: List[int]) -> int:\n",
    "        g.sort(reverse = True)\n",
    "        s.sort(reverse = True)\n",
    "        res, i , j = 0 ,0, 0\n",
    "        while i<len(g) and j<len(s):\n",
    "            if g[i]<=s[j]:\n",
    "                res+=1\n",
    "                i+=1\n",
    "                j+=1\n",
    "            else:\n",
    "                i+=1\n",
    "        return res"
   ]
  }
 ],
 "metadata": {
  "kernelspec": {
   "display_name": "Python 3 (ipykernel)",
   "language": "python",
   "name": "python3"
  },
  "language_info": {
   "codemirror_mode": {
    "name": "ipython",
    "version": 3
   },
   "file_extension": ".py",
   "mimetype": "text/x-python",
   "name": "python",
   "nbconvert_exporter": "python",
   "pygments_lexer": "ipython3",
   "version": "3.11.1"
  }
 },
 "nbformat": 4,
 "nbformat_minor": 5
}
