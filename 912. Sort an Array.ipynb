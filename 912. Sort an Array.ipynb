{
 "cells": [
  {
   "cell_type": "code",
   "execution_count": null,
   "id": "5d0d85b3-02ae-47b7-afcd-2eecc9761bab",
   "metadata": {},
   "outputs": [],
   "source": [
    "class Solution:\n",
    "    def sortArray(self, nums: List[int]) -> List[int]:\n",
    "        def quicksort(nums):\n",
    "            if len(nums) <=1 : return nums\n",
    "\n",
    "            pivot = random.choice(nums)\n",
    "            less_than, equal_to, greater_than = [], [], []\n",
    "\n",
    "            for val in nums:\n",
    "                if val<pivot : less_than.append(val)\n",
    "                elif val>pivot : greater_than.append(val)\n",
    "                else : equal_to.append(val)\n",
    "            return quicksort(less_than) + equal_to + quicksort(greater_than)\n",
    "        return quicksort(nums)    "
   ]
  }
 ],
 "metadata": {
  "kernelspec": {
   "display_name": "Python 3 (ipykernel)",
   "language": "python",
   "name": "python3"
  },
  "language_info": {
   "codemirror_mode": {
    "name": "ipython",
    "version": 3
   },
   "file_extension": ".py",
   "mimetype": "text/x-python",
   "name": "python",
   "nbconvert_exporter": "python",
   "pygments_lexer": "ipython3",
   "version": "3.11.1"
  }
 },
 "nbformat": 4,
 "nbformat_minor": 5
}
