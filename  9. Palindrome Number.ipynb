{
 "cells": [
  {
   "cell_type": "code",
   "execution_count": null,
   "id": "06979166-3949-4e36-b348-84de28dc823f",
   "metadata": {},
   "outputs": [],
   "source": [
    "class Solution(object):\n",
    "    def isPalindrome(self, x):\n",
    "        if x < 0 or (x != 0 and x % 10 == 0):\n",
    "            return False\n",
    "\n",
    "        half = 0\n",
    "        while x > half:\n",
    "            half = (half * 10) + (x % 10)\n",
    "            x = x // 10\n",
    "\n",
    "        return x == half or x == half // 10"
   ]
  }
 ],
 "metadata": {
  "kernelspec": {
   "display_name": "Python 3 (ipykernel)",
   "language": "python",
   "name": "python3"
  },
  "language_info": {
   "codemirror_mode": {
    "name": "ipython",
    "version": 3
   },
   "file_extension": ".py",
   "mimetype": "text/x-python",
   "name": "python",
   "nbconvert_exporter": "python",
   "pygments_lexer": "ipython3",
   "version": "3.11.1"
  }
 },
 "nbformat": 4,
 "nbformat_minor": 5
}
